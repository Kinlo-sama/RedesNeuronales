{
 "cells": [
  {
   "cell_type": "markdown",
   "metadata": {},
   "source": [
    " **Librerias Necesarias**"
   ]
  },
  {
   "cell_type": "code",
   "execution_count": 2,
   "metadata": {},
   "outputs": [],
   "source": [
    "import pandas as pd\n",
    "import numpy as np\n",
    "from ucimlrepo import fetch_ucirepo \n",
    "import matplotlib.pyplot as plt\n",
    "import random "
   ]
  },
  {
   "cell_type": "markdown",
   "metadata": {},
   "source": [
    "**Configuracion de salida**"
   ]
  },
  {
   "cell_type": "code",
   "execution_count": 3,
   "metadata": {},
   "outputs": [],
   "source": [
    "#Configuraciones para no truncar la salida\n",
    "pd.set_option('display.max_rows', None)\n",
    "# Configurar para que no se trunque la salida\n",
    "np.set_printoptions(threshold=np.inf, linewidth=200)"
   ]
  },
  {
   "cell_type": "markdown",
   "metadata": {},
   "source": [
    "**Obtención de dataset**"
   ]
  },
  {
   "cell_type": "code",
   "execution_count": 4,
   "metadata": {},
   "outputs": [],
   "source": [
    "# fetch dataset \n",
    "iris = fetch_ucirepo(id=53)\n",
    "\n",
    "# datos como dataframes\n",
    "data_num = iris.data.features #Caracteristicas \n",
    "data_label = iris.data.targets  #Etiquetas"
   ]
  },
  {
   "cell_type": "markdown",
   "metadata": {},
   "source": [
    "**Visualizacion de datos**"
   ]
  },
  {
   "cell_type": "code",
   "execution_count": 5,
   "metadata": {},
   "outputs": [
    {
     "name": "stdout",
     "output_type": "stream",
     "text": [
      "\t\tCaracterisitcas\n",
      "\n",
      "   sepal length  sepal width  petal length  petal width\n",
      "0           5.1          3.5           1.4          0.2\n",
      "1           4.9          3.0           1.4          0.2\n",
      "2           4.7          3.2           1.3          0.2\n",
      "3           4.6          3.1           1.5          0.2\n",
      "4           5.0          3.6           1.4          0.2\n",
      "Dimension:(150, 4)\n",
      "\n",
      "\t\tEtiquetas\n",
      "\n",
      "         class\n",
      "0  Iris-setosa\n",
      "1  Iris-setosa\n",
      "2  Iris-setosa\n",
      "3  Iris-setosa\n",
      "4  Iris-setosa\n",
      "['Iris-setosa' 'Iris-versicolor' 'Iris-virginica']\n",
      "Dimension:(150, 1)\n"
     ]
    }
   ],
   "source": [
    "print(\"\\t\\tCaracterisitcas\\n\")\n",
    "print(data_num.head())                                  #Ver primeros 5 elementos con head()\n",
    "print(f\"Dimension:{data_num.shape}\\n\")\n",
    "print(\"\\t\\tEtiquetas\\n\")\n",
    "print(data_label.head())\n",
    "print(np.unique(data_label))\n",
    "print(f\"Dimension:{data_label.shape}\")"
   ]
  },
  {
   "cell_type": "markdown",
   "metadata": {},
   "source": [
    "**Acceso a datos**"
   ]
  },
  {
   "cell_type": "code",
   "execution_count": 6,
   "metadata": {},
   "outputs": [
    {
     "name": "stdout",
     "output_type": "stream",
     "text": [
      "Acceso a caracteristicas especificas\n",
      "1.4\n",
      "Acceso a etiquetas especificas\n",
      "Iris-setosa\n"
     ]
    }
   ],
   "source": [
    "print(\"Acceso a caracteristicas especificas\")\n",
    "print(data_num.iloc[1,2])\n",
    "print(\"Acceso a etiquetas especificas\")\n",
    "print(data_label.iloc[1,0])"
   ]
  },
  {
   "cell_type": "markdown",
   "metadata": {},
   "source": [
    "**Extracción de conjuntos para training y query**"
   ]
  },
  {
   "cell_type": "code",
   "execution_count": 7,
   "metadata": {},
   "outputs": [],
   "source": [
    "#Porcentaje\n",
    "percent_query = 20\n",
    "\n",
    "#Datos \n",
    "\n",
    "#Query\n",
    "lista_numeros = list(range(0,150))\n",
    "\"\"\"\n",
    "\n",
    "lista_numeros = [a for a in range(0,149)]\n",
    "lista_numeros = []\n",
    "for i in range(0,149):\n",
    "    lista_numeros.append(i)\n",
    "\n",
    "\"\"\"\n",
    "nume_samples_query = 10#int((len(data_num) * percent_query)/100)                       #Numero de muestras con respecto al porcentanje         \n",
    "query_index_samples = random.sample(lista_numeros,nume_samples_query)               #Escogemos los indices de query aleatoriamente sin remplazo\n",
    "query_index_samples.sort()                                                          #Ordenamos \n",
    "query_samples = data_num.loc[query_index_samples]                                   #seleccionamos de data_num con respecto a los indices encontrados \n",
    "#    Training\n",
    "training_samples = data_num.drop(query_index_samples)                               #Escogemos los indices faltantes\n",
    "\n",
    "#Label \n",
    "query_samples_label = data_label.iloc[query_index_samples]                          #iloc -> [] usando los indices antes encontrados para query\n",
    "training_samples_label = data_label.drop(query_index_samples)                       #Escogemos los indices faltantes \n"
   ]
  },
  {
   "cell_type": "markdown",
   "metadata": {},
   "source": [
    "**Distancias Euclidianas**"
   ]
  },
  {
   "cell_type": "code",
   "execution_count": 8,
   "metadata": {},
   "outputs": [],
   "source": [
    "disTotal = []\n",
    "totalQuery = len(query_samples)\n",
    "totalTraining = len(training_samples)\n",
    "totalCaracteristicas = len(query_samples.iloc[0])\n",
    "\n",
    "for i in range(totalQuery):\n",
    "    distancias = []\n",
    "    for k in range(totalTraining):\n",
    "        distancia = 0\n",
    "        \"\"\" \n",
    "        distancia += ( ( query_samples.iloc[i,0] - training_samples.iloc[k,0] ) ** 2 + \n",
    "                        ( query_samples.iloc[i,1] - training_samples.iloc[k,1] ) ** 2 +\n",
    "                        ( query_samples.iloc[i,2] - training_samples.iloc[k,2] ) ** 2 +\n",
    "                        ( query_samples.iloc[i,3] - training_samples.iloc[k,3] ) ** 2\n",
    "                        )\n",
    "        \"\"\"\n",
    "        for j in range(totalCaracteristicas):\n",
    "            distancia += ( query_samples.iloc[i,j] - training_samples.iloc[k,j] ) ** 2\n",
    "        distancias.append(distancia ** (1/2))\n",
    "    disTotal.append(distancias)"
   ]
  },
  {
   "cell_type": "code",
   "execution_count": 9,
   "metadata": {},
   "outputs": [
    {
     "data": {
      "text/plain": [
       "['Iris-setosa', 'Iris-versicolor', 'Iris-virginica']"
      ]
     },
     "execution_count": 9,
     "metadata": {},
     "output_type": "execute_result"
    }
   ],
   "source": [
    "clases = np.unique(data_label).tolist()\n",
    "clases "
   ]
  },
  {
   "cell_type": "code",
   "execution_count": null,
   "metadata": {},
   "outputs": [],
   "source": []
  }
 ],
 "metadata": {
  "kernelspec": {
   "display_name": "Python 3 (ipykernel)",
   "language": "python",
   "name": "python3"
  },
  "language_info": {
   "codemirror_mode": {
    "name": "ipython",
    "version": 3
   },
   "file_extension": ".py",
   "mimetype": "text/x-python",
   "name": "python",
   "nbconvert_exporter": "python",
   "pygments_lexer": "ipython3",
   "version": "3.11.2"
  }
 },
 "nbformat": 4,
 "nbformat_minor": 2
}
